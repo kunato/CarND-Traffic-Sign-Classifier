{
 "cells": [
  {
   "cell_type": "code",
   "execution_count": 1,
   "metadata": {},
   "outputs": [
    {
     "name": "stdout",
     "output_type": "stream",
     "text": [
      "/Users/kunato/Udacity/self-driving/CarND-Term1-Starter-Kit\n"
     ]
    }
   ],
   "source": [
    "# Change directory to VSCode workspace root so that relative path loads work correctly. Turn this addition off with the DataScience.changeDirOnImportExport setting\n",
    "import os\n",
    "try:\n",
    "\tos.chdir(os.path.join(os.getcwd(), '..'))\n",
    "\tprint(os.getcwd())\n",
    "except:\n",
    "\tpass\n"
   ]
  },
  {
   "cell_type": "code",
   "execution_count": 2,
   "metadata": {},
   "outputs": [
    {
     "name": "stdout",
     "output_type": "stream",
     "text": [
      "/Users/kunato/Udacity/self-driving/CarND-Term1-Starter-Kit/CarND-Traffic-Sign-Classifier-Project\n"
     ]
    }
   ],
   "source": [
    "import os\n",
    "try:\n",
    "\tos.chdir(os.path.join(os.getcwd(), 'CarND-Traffic-Sign-Classifier-Project'))\n",
    "\tprint(os.getcwd())\n",
    "except:\n",
    "\tpass"
   ]
  },
  {
   "cell_type": "markdown",
   "metadata": {},
   "source": [
    " # Self-Driving Car Engineer Nanodegree\n",
    "\n",
    " ## Deep Learning\n",
    "\n",
    " ## Project: Build a Traffic Sign Recognition Classifier\n",
    "\n",
    " In this notebook, a template is provided for you to implement your functionality in stages, which is required to successfully complete this project. If additional code is required that cannot be included in the notebook, be sure that the Python code is successfully imported and included in your submission if necessary.\n",
    "\n",
    " > **Note**: Once you have completed all of the code implementations, you need to finalize your work by exporting the iPython Notebook as an HTML document. Before exporting the notebook to html, all of the code cells need to have been run so that reviewers can see the final implementation and output. You can then export the notebook by using the menu above and navigating to  \\n\",\n",
    "     \"**File -> Download as -> HTML (.html)**. Include the finished document along with this notebook as your submission.\n",
    "\n",
    " In addition to implementing code, there is a writeup to complete. The writeup should be completed in a separate file, which can be either a markdown file or a pdf document. There is a [write up template](https://github.com/udacity/CarND-Traffic-Sign-Classifier-Project/blob/master/writeup_template.md) that can be used to guide the writing process. Completing the code template and writeup template will cover all of the [rubric points](https://review.udacity.com/#!/rubrics/481/view) for this project.\n",
    "\n",
    " The [rubric](https://review.udacity.com/#!/rubrics/481/view) contains \"Stand Out Suggestions\" for enhancing the project beyond the minimum requirements. The stand out suggestions are optional. If you decide to pursue the \"stand out suggestions\", you can include the code in this Ipython notebook and also discuss the results in the writeup file.\n",
    "\n",
    "\n",
    " >**Note:** Code and Markdown cells can be executed using the **Shift + Enter** keyboard shortcut. In addition, Markdown cells can be edited by typically double-clicking the cell to enter edit mode."
   ]
  },
  {
   "cell_type": "markdown",
   "metadata": {},
   "source": [
    " ---\n",
    " ## Step 0: Load The Data"
   ]
  },
  {
   "cell_type": "code",
   "execution_count": 3,
   "metadata": {},
   "outputs": [],
   "source": [
    "# Load pickled data\n",
    "import pickle\n",
    "import numpy as np\n",
    "\n",
    "training_file = 'traffic-signs-data/train.p'\n",
    "validation_file= 'traffic-signs-data/valid.p'\n",
    "testing_file = 'traffic-signs-data/test.p'\n",
    "\n",
    "with open(training_file, mode='rb') as f:\n",
    "    train = pickle.load(f)\n",
    "with open(validation_file, mode='rb') as f:\n",
    "    valid = pickle.load(f)\n",
    "with open(testing_file, mode='rb') as f:\n",
    "    test = pickle.load(f)\n",
    "    \n",
    "X_train, y_train = train['features'], train['labels']\n",
    "X_valid, y_valid = valid['features'], valid['labels']\n",
    "X_test, y_test = test['features'], test['labels']\n",
    "\n",
    "\n",
    "\n"
   ]
  },
  {
   "cell_type": "markdown",
   "metadata": {},
   "source": [
    " ---\n",
    "\n",
    " ## Step 1: Dataset Summary & Exploration\n",
    "\n",
    " The pickled data is a dictionary with 4 key/value pairs:\n",
    "\n",
    " - `'features'` is a 4D array containing raw pixel data of the traffic sign images, (num examples, width, height, channels).\n",
    " - `'labels'` is a 1D array containing the label/class id of the traffic sign. The file `signnames.csv` contains id -> name mappings for each id.\n",
    " - `'sizes'` is a list containing tuples, (width, height) representing the original width and height the image.\n",
    " - `'coords'` is a list containing tuples, (x1, y1, x2, y2) representing coordinates of a bounding box around the sign in the image. **THESE COORDINATES ASSUME THE ORIGINAL IMAGE. THE PICKLED DATA CONTAINS RESIZED VERSIONS (32 by 32) OF THESE IMAGES**\n",
    "\n",
    " Complete the basic data summary below. Use python, numpy and/or pandas methods to calculate the data summary rather than hard coding the results. For example, the [pandas shape method](http://pandas.pydata.org/pandas-docs/stable/generated/pandas.DataFrame.shape.html) might be useful for calculating some of the summary results."
   ]
  },
  {
   "cell_type": "markdown",
   "metadata": {},
   "source": [
    " ### Provide a Basic Summary of the Data Set Using Python, Numpy and/or Pandas"
   ]
  },
  {
   "cell_type": "code",
   "execution_count": 36,
   "metadata": {},
   "outputs": [
    {
     "name": "stdout",
     "output_type": "stream",
     "text": [
      "Number of training examples = 34799\n",
      "Number of testing examples = 12630\n",
      "Image data shape = (32, 32, 3)\n",
      "Number of classes = 43\n"
     ]
    }
   ],
   "source": [
    "### Replace each question mark with the appropriate value. \n",
    "### Use python, pandas or numpy methods rather than hard coding the results\n",
    "\n",
    "# TODO: Number of training examples\n",
    "n_train = len(y_train)\n",
    "\n",
    "# TODO: Number of validation examples\n",
    "n_validation = len(y_valid)\n",
    "\n",
    "# TODO: Number of testing examples.\n",
    "n_test = len(y_test)\n",
    "\n",
    "# TODO: What's the shape of an traffic sign image?\n",
    "image_shape = np.array(X_test[0]).shape\n",
    "\n",
    "# TODO: How many unique classes/labels there are in the dataset.\n",
    "n_classes = train['labels'].max() - train['labels'].min() + 1\n",
    "\n",
    "print(\"Number of training examples =\", n_train)\n",
    "print(\"Number of testing examples =\", n_test)\n",
    "print(\"Image data shape =\", image_shape)\n",
    "print(\"Number of classes =\", n_classes)\n"
   ]
  },
  {
   "cell_type": "markdown",
   "metadata": {},
   "source": [
    " ### Include an exploratory visualization of the dataset"
   ]
  },
  {
   "cell_type": "markdown",
   "metadata": {},
   "source": [
    " Visualize the German Traffic Signs Dataset using the pickled file(s). This is open ended, suggestions include: plotting traffic sign images, plotting the count of each sign, etc.\n",
    "\n",
    " The [Matplotlib](http://matplotlib.org/) [examples](http://matplotlib.org/examples/index.html) and [gallery](http://matplotlib.org/gallery.html) pages are a great resource for doing visualizations in Python.\n",
    "\n",
    " **NOTE:** It's recommended you start with something simple first. If you wish to do more, come back to it after you've completed the rest of the sections. It can be interesting to look at the distribution of classes in the training, validation and test set. Is the distribution the same? Are there more examples of some classes than others?"
   ]
  },
  {
   "cell_type": "code",
   "execution_count": 5,
   "metadata": {},
   "outputs": [
    {
     "data": {
      "text/plain": [
       "<matplotlib.image.AxesImage at 0x1294b20b8>"
      ]
     },
     "execution_count": 5,
     "metadata": {},
     "output_type": "execute_result"
    },
    {
     "data": {
      "image/png": "[encoded data removed]",
      "text/plain": [
       "<Figure size 72x72 with 1 Axes>"
      ]
     },
     "metadata": {
      "needs_background": "light"
     },
     "output_type": "display_data"
    }
   ],
   "source": [
    "### Data exploration visualization code goes here.\n",
    "### Feel free to use as many code cells as needed.\n",
    "import matplotlib.pyplot as plt\n",
    "import random\n",
    "# Visualizations will be shown in the notebook.\n",
    "get_ipython().run_line_magic('matplotlib', 'inline')\n",
    "index = random.randint(0, len(X_train))\n",
    "image = X_train[index].squeeze()\n",
    "\n",
    "plt.figure(figsize=(1,1))\n",
    "plt.imshow(image, cmap=\"gray\")\n"
   ]
  },
  {
   "cell_type": "markdown",
   "metadata": {},
   "source": [
    " ----\n",
    "\n",
    " ## Step 2: Design and Test a Model Architecture\n",
    "\n",
    " Design and implement a deep learning model that learns to recognize traffic signs. Train and test your model on the [German Traffic Sign Dataset](http://benchmark.ini.rub.de/?section=gtsrb&subsection=dataset).\n",
    "\n",
    " The LeNet-5 implementation shown in the [classroom](https://classroom.udacity.com/nanodegrees/nd013/parts/fbf77062-5703-404e-b60c-95b78b2f3f9e/modules/6df7ae49-c61c-4bb2-a23e-6527e69209ec/lessons/601ae704-1035-4287-8b11-e2c2716217ad/concepts/d4aca031-508f-4e0b-b493-e7b706120f81) at the end of the CNN lesson is a solid starting point. You'll have to change the number of classes and possibly the preprocessing, but aside from that it's plug and play!\n",
    "\n",
    " With the LeNet-5 solution from the lecture, you should expect a validation set accuracy of about 0.89. To meet specifications, the validation set accuracy will need to be at least 0.93. It is possible to get an even higher accuracy, but 0.93 is the minimum for a successful project submission.\n",
    "\n",
    " There are various aspects to consider when thinking about this problem:\n",
    "\n",
    " - Neural network architecture (is the network over or underfitting?)\n",
    " - Play around preprocessing techniques (normalization, rgb to grayscale, etc)\n",
    " - Number of examples per label (some have more than others).\n",
    " - Generate fake data.\n",
    "\n",
    " Here is an example of a [published baseline model on this problem](http://yann.lecun.com/exdb/publis/pdf/sermanet-ijcnn-11.pdf). It's not required to be familiar with the approach used in the paper but, it's good practice to try to read papers like these."
   ]
  },
  {
   "cell_type": "markdown",
   "metadata": {},
   "source": [
    " ### Pre-process the Data Set (normalization, grayscale, etc.)"
   ]
  },
  {
   "cell_type": "markdown",
   "metadata": {},
   "source": [
    " Minimally, the image data should be normalized so that the data has mean zero and equal variance. For image data, `(pixel - 128)/ 128` is a quick way to approximately normalize the data and can be used in this project.\n",
    "\n",
    " Other pre-processing steps are optional. You can try different techniques to see if it improves performance.\n",
    "\n",
    " Use the code cell (or multiple code cells, if necessary) to implement the first step of your project."
   ]
  },
  {
   "cell_type": "code",
   "execution_count": 7,
   "metadata": {},
   "outputs": [],
   "source": [
    "### Preprocess the data here. It is required to normalize the data. Other preprocessing steps could include \n",
    "### converting to grayscale, etc.\n",
    "### Feel free to use as many code cells as needed.\n",
    "\n",
    "import cv2\n",
    "\n",
    "def convertToGray(dataset):\n",
    "    dataset = np.array([cv2.cvtColor(img, cv2.COLOR_BGR2GRAY).reshape(32,32,1) for img in dataset])\n",
    "    return dataset\n",
    "\n",
    "def normalize(dataset):\n",
    "    dataset = np.array([cv2.normalize(img.astype(np.float32), None, -1.0, 1.0) for img in dataset])\n",
    "    return dataset\n",
    "\n",
    "\n",
    "X_train = normalize(X_train)\n",
    "X_valid = normalize(X_valid)\n",
    "X_test = normalize(X_test)\n"
   ]
  },
  {
   "cell_type": "markdown",
   "metadata": {},
   "source": [
    " ### Model Architecture"
   ]
  },
  {
   "cell_type": "code",
   "execution_count": 8,
   "metadata": {},
   "outputs": [],
   "source": [
    "import tensorflow as tf\n",
    "from sklearn.utils import shuffle\n",
    "from tensorflow.contrib.layers import flatten\n",
    "\n",
    "def LeNet(x):    \n",
    "    # Arguments used for tf.truncated_normal, randomly defines variables for the weights and biases for each layer\n",
    "    mu = 0\n",
    "    sigma = 0.1\n",
    "    \n",
    "\n",
    "    # Layer 1: Convolutional. Input = 32x32x1. Output = 28x28x8.\n",
    "    weight_l1 = tf.Variable(tf.truncated_normal([5, 5, 3, 8],mean=mu,stddev=sigma))\n",
    "    bias_l1 = tf.Variable(tf.zeros(8))\n",
    "    conv_l1 = tf.nn.conv2d(x, weight_l1, strides=[1, 1, 1, 1], padding='VALID')\n",
    "    conv_l1 = tf.nn.bias_add(conv_l1, bias_l1)\n",
    "    conv_l1 = tf.nn.relu(conv_l1)\n",
    "\n",
    "    # Pooling. Input = 28x28x8. Output = 14x14x8.\n",
    "    conv_l1 = tf.nn.max_pool(conv_l1, ksize=[1, 2, 2, 1], strides=[1, 2, 2, 1], padding='VALID')\n",
    "    \n",
    "    # Layer 2: Convolutional. Output = 10x10x24.\n",
    "    weight_l2 = tf.Variable(tf.truncated_normal([5, 5, 8, 24],mean=mu,stddev=sigma))\n",
    "    bias_l2 = tf.Variable(tf.zeros(24))\n",
    "    conv_l2 = tf.nn.conv2d(conv_l1, weight_l2, strides=[1, 1, 1, 1],padding='VALID')\n",
    "    conv_l2 = tf.nn.bias_add(conv_l2, bias_l2)\n",
    "    conv_l2 = tf.nn.relu(conv_l2)\n",
    "    conv_l2 = tf.nn.dropout(conv_l2, 0.8)\n",
    "\n",
    "    # Layer 3: Convolutional.  Input 10x10x24. Output 5x5x48\n",
    "    weight_l3 = tf.Variable(tf.truncated_normal([6, 6, 24, 48],mean=mu,stddev=sigma))\n",
    "    bias_l3 = tf.Variable(tf.zeros(48))\n",
    "    conv_l3 = tf.nn.conv2d(conv_l2, weight_l3, strides=[1, 1, 1, 1],padding='VALID')\n",
    "    conv_l3 = tf.nn.bias_add(conv_l3, bias_l3)\n",
    "    conv_l3 = tf.nn.relu(conv_l3)\n",
    "    conv_l3 = tf.nn.dropout(conv_l3, 0.8)\n",
    "\n",
    "    # Flatten. Input = 5x5x48. Output = 1200.\n",
    "    fc_0 = flatten(conv_l3)\n",
    "    \n",
    "    # Layer 4 : Fully Connected. Input = 1200. Output = 640.\n",
    "    weight_fc1 = tf.Variable(tf.truncated_normal(shape=(1200, 640),mean=mu,stddev=sigma))\n",
    "    bias_fc1 = tf.Variable(tf.zeros(640))\n",
    "    fc_1 = tf.matmul(fc_0, weight_fc1) + bias_fc1\n",
    "    # Activation.\n",
    "    fc_1 = tf.nn.relu(fc_1)\n",
    "    fc_1 = tf.nn.dropout(fc_1, 0.8)\n",
    "\n",
    "    # Layer 5: Fully Connected. Input = 640. Output = 320.\n",
    "    weight_fc2 = tf.Variable(tf.truncated_normal(shape=(640, 320),mean=mu,stddev=sigma))\n",
    "    bias_fc2 = tf.Variable(tf.zeros(320))\n",
    "    fc_2 = tf.matmul(fc_1, weight_fc2) + bias_fc2\n",
    "\n",
    "    # Activation.\n",
    "    fc_2 = tf.nn.relu(fc_2)\n",
    "    fc_2 = tf.nn.dropout(fc_2, 0.9)\n",
    "\n",
    "    # Layer 6: Fully Connected. Input = 320. Output = 43.\n",
    "    weight_fc3 = tf.Variable(tf.truncated_normal(shape=(320, 43),mean=mu,stddev=sigma))\n",
    "    bias_fc3 = tf.Variable(tf.zeros(43))\n",
    "    fc_3 = tf.matmul(fc_2,weight_fc3) + bias_fc3\n",
    "    \n",
    "    \n",
    "    return fc_3\n"
   ]
  },
  {
   "cell_type": "code",
   "execution_count": 9,
   "metadata": {},
   "outputs": [],
   "source": [
    "# x,y preparation\n",
    "x = tf.placeholder(tf.float32, (None, 32, 32, 3))\n",
    "y = tf.placeholder(tf.int32, (None))\n",
    "one_hot_y = tf.one_hot(y, 43)\n"
   ]
  },
  {
   "cell_type": "code",
   "execution_count": 10,
   "metadata": {},
   "outputs": [
    {
     "name": "stdout",
     "output_type": "stream",
     "text": [
      "WARNING:tensorflow:From <ipython-input-10-9921bd32836c>:7: softmax_cross_entropy_with_logits (from tensorflow.python.ops.nn_ops) is deprecated and will be removed in a future version.\n",
      "Instructions for updating:\n",
      "\n",
      "Future major versions of TensorFlow will allow gradients to flow\n",
      "into the labels input on backprop by default.\n",
      "\n",
      "See `tf.nn.softmax_cross_entropy_with_logits_v2`.\n",
      "\n"
     ]
    }
   ],
   "source": [
    "# TF model creation\n",
    "EPOCHS = 50\n",
    "BATCH_SIZE = 128\n",
    "\n",
    "rate = 0.001\n",
    "logits = LeNet(x)\n",
    "cross_entropy = tf.nn.softmax_cross_entropy_with_logits(labels=one_hot_y, logits=logits)\n",
    "loss_operation = tf.reduce_mean(cross_entropy)\n",
    "optimizer = tf.train.AdamOptimizer(learning_rate = rate)\n",
    "training_operation = optimizer.minimize(loss_operation)\n",
    "\n"
   ]
  },
  {
   "cell_type": "code",
   "execution_count": 11,
   "metadata": {},
   "outputs": [],
   "source": [
    "# Evaluation helper\n",
    "correct_prediction = tf.equal(tf.argmax(logits, 1), tf.argmax(one_hot_y, 1))\n",
    "accuracy_operation = tf.reduce_mean(tf.cast(correct_prediction, tf.float32))\n",
    "saver = tf.train.Saver()\n",
    "\n",
    "def evaluate_one(x_data):\n",
    "    sess = tf.get_default_session()\n",
    "    x_data = x_data.reshape(1, x_data.shape[0], x_data.shape[1], x_data.shape[2])\n",
    "    y = sess.run(tf.argmax(logits, 1), feed_dict={x: x_data})\n",
    "    return y\n",
    "\n",
    "def evaluate_top(x_data):\n",
    "    sess = tf.get_default_session()\n",
    "    x_data = x_data.reshape(1, x_data.shape[0], x_data.shape[1], x_data.shape[2])\n",
    "    y = sess.run(tf.nn.top_k(tf.nn.softmax(logits), 5), feed_dict={x: x_data})\n",
    "    return y\n",
    "\n",
    "def evaluate(X_data, y_data):\n",
    "    num_examples = len(X_data)\n",
    "    total_accuracy = 0\n",
    "    sess = tf.get_default_session()\n",
    "    for offset in range(0, num_examples, BATCH_SIZE):\n",
    "        batch_x, batch_y = X_data[offset:offset+BATCH_SIZE], y_data[offset:offset+BATCH_SIZE]\n",
    "        accuracy = sess.run(accuracy_operation, feed_dict={x: batch_x, y: batch_y})\n",
    "        total_accuracy += (accuracy * len(batch_x))\n",
    "    return total_accuracy / num_examples\n",
    "\n"
   ]
  },
  {
   "cell_type": "markdown",
   "metadata": {},
   "source": [
    " ### Train, Validate and Test the Model"
   ]
  },
  {
   "cell_type": "markdown",
   "metadata": {},
   "source": [
    " A validation set can be used to assess how well the model is performing. A low accuracy on the training and validation\n",
    " sets imply underfitting. A high accuracy on the training set but low accuracy on the validation set implies overfitting."
   ]
  },
  {
   "cell_type": "code",
   "execution_count": 12,
   "metadata": {},
   "outputs": [
    {
     "name": "stdout",
     "output_type": "stream",
     "text": [
      "Training...\n",
      "\n",
      "EPOCH 1 ...\n",
      "Training Accuracy = 0.869 , Validation Accuracy = 0.834\n",
      "\n",
      "EPOCH 2 ...\n",
      "Training Accuracy = 0.932 , Validation Accuracy = 0.888\n",
      "\n",
      "EPOCH 3 ...\n",
      "Training Accuracy = 0.962 , Validation Accuracy = 0.918\n",
      "\n",
      "EPOCH 4 ...\n",
      "Training Accuracy = 0.974 , Validation Accuracy = 0.919\n",
      "\n",
      "EPOCH 5 ...\n",
      "Training Accuracy = 0.973 , Validation Accuracy = 0.920\n",
      "\n",
      "EPOCH 6 ...\n",
      "Training Accuracy = 0.984 , Validation Accuracy = 0.928\n",
      "\n",
      "EPOCH 7 ...\n",
      "Training Accuracy = 0.985 , Validation Accuracy = 0.937\n",
      "\n",
      "EPOCH 8 ...\n",
      "Training Accuracy = 0.986 , Validation Accuracy = 0.935\n",
      "\n",
      "EPOCH 9 ...\n",
      "Training Accuracy = 0.991 , Validation Accuracy = 0.936\n",
      "\n",
      "EPOCH 10 ...\n",
      "Training Accuracy = 0.986 , Validation Accuracy = 0.927\n",
      "\n",
      "EPOCH 11 ...\n",
      "Training Accuracy = 0.994 , Validation Accuracy = 0.943\n",
      "\n",
      "EPOCH 12 ...\n",
      "Training Accuracy = 0.993 , Validation Accuracy = 0.933\n",
      "\n",
      "EPOCH 13 ...\n",
      "Training Accuracy = 0.993 , Validation Accuracy = 0.949\n",
      "\n",
      "EPOCH 14 ...\n",
      "Training Accuracy = 0.994 , Validation Accuracy = 0.940\n",
      "\n",
      "EPOCH 15 ...\n",
      "Training Accuracy = 0.995 , Validation Accuracy = 0.946\n",
      "\n",
      "EPOCH 16 ...\n",
      "Training Accuracy = 0.995 , Validation Accuracy = 0.954\n",
      "\n",
      "EPOCH 17 ...\n",
      "Training Accuracy = 0.996 , Validation Accuracy = 0.952\n",
      "\n",
      "EPOCH 18 ...\n",
      "Training Accuracy = 0.991 , Validation Accuracy = 0.944\n",
      "\n",
      "EPOCH 19 ...\n",
      "Training Accuracy = 0.996 , Validation Accuracy = 0.956\n",
      "\n",
      "EPOCH 20 ...\n",
      "Training Accuracy = 0.996 , Validation Accuracy = 0.950\n",
      "\n",
      "EPOCH 21 ...\n",
      "Training Accuracy = 0.996 , Validation Accuracy = 0.952\n",
      "\n",
      "EPOCH 22 ...\n",
      "Training Accuracy = 0.996 , Validation Accuracy = 0.949\n",
      "\n",
      "EPOCH 23 ...\n",
      "Training Accuracy = 0.997 , Validation Accuracy = 0.958\n",
      "\n",
      "EPOCH 24 ...\n",
      "Training Accuracy = 0.996 , Validation Accuracy = 0.947\n",
      "\n",
      "EPOCH 25 ...\n",
      "Training Accuracy = 0.996 , Validation Accuracy = 0.954\n",
      "\n",
      "EPOCH 26 ...\n",
      "Training Accuracy = 0.996 , Validation Accuracy = 0.953\n",
      "\n",
      "EPOCH 27 ...\n",
      "Training Accuracy = 0.996 , Validation Accuracy = 0.950\n",
      "\n",
      "EPOCH 28 ...\n",
      "Training Accuracy = 0.996 , Validation Accuracy = 0.952\n",
      "\n",
      "EPOCH 29 ...\n",
      "Training Accuracy = 0.997 , Validation Accuracy = 0.951\n",
      "\n",
      "EPOCH 30 ...\n",
      "Training Accuracy = 0.997 , Validation Accuracy = 0.960\n",
      "\n",
      "EPOCH 31 ...\n",
      "Training Accuracy = 0.997 , Validation Accuracy = 0.954\n",
      "\n",
      "EPOCH 32 ...\n",
      "Training Accuracy = 0.997 , Validation Accuracy = 0.953\n",
      "\n",
      "EPOCH 33 ...\n",
      "Training Accuracy = 0.994 , Validation Accuracy = 0.944\n",
      "\n",
      "EPOCH 34 ...\n",
      "Training Accuracy = 0.998 , Validation Accuracy = 0.959\n",
      "\n",
      "EPOCH 35 ...\n",
      "Training Accuracy = 0.995 , Validation Accuracy = 0.959\n",
      "\n",
      "EPOCH 36 ...\n",
      "Training Accuracy = 0.997 , Validation Accuracy = 0.952\n",
      "\n",
      "EPOCH 37 ...\n",
      "Training Accuracy = 0.996 , Validation Accuracy = 0.956\n",
      "\n",
      "EPOCH 38 ...\n",
      "Training Accuracy = 0.996 , Validation Accuracy = 0.954\n",
      "\n",
      "EPOCH 39 ...\n",
      "Training Accuracy = 0.996 , Validation Accuracy = 0.955\n",
      "\n",
      "EPOCH 40 ...\n",
      "Training Accuracy = 0.997 , Validation Accuracy = 0.952\n",
      "\n",
      "EPOCH 41 ...\n",
      "Training Accuracy = 0.997 , Validation Accuracy = 0.955\n",
      "\n",
      "EPOCH 42 ...\n",
      "Training Accuracy = 0.997 , Validation Accuracy = 0.957\n",
      "\n",
      "EPOCH 43 ...\n",
      "Training Accuracy = 0.998 , Validation Accuracy = 0.952\n",
      "\n",
      "EPOCH 44 ...\n",
      "Training Accuracy = 0.996 , Validation Accuracy = 0.951\n",
      "\n",
      "EPOCH 45 ...\n",
      "Training Accuracy = 0.996 , Validation Accuracy = 0.951\n",
      "\n",
      "EPOCH 46 ...\n",
      "Training Accuracy = 0.997 , Validation Accuracy = 0.954\n",
      "\n",
      "EPOCH 47 ...\n",
      "Training Accuracy = 0.998 , Validation Accuracy = 0.954\n",
      "\n",
      "EPOCH 48 ...\n",
      "Training Accuracy = 0.998 , Validation Accuracy = 0.960\n",
      "\n",
      "EPOCH 49 ...\n",
      "Training Accuracy = 0.999 , Validation Accuracy = 0.957\n",
      "\n",
      "EPOCH 50 ...\n",
      "Training Accuracy = 0.999 , Validation Accuracy = 0.959\n",
      "\n",
      "Model saved\n",
      "Test Accuracy = 0.936\n"
     ]
    }
   ],
   "source": [
    "### Train your model here.\n",
    "### Calculate and report the accuracy on the training and validation set.\n",
    "### Once a final model architecture is selected, \n",
    "### the accuracy on the test set should be calculated and reported as well.\n",
    "### Feel free to use as many code cells as needed.\n",
    "with tf.Session() as sess:\n",
    "    sess.run(tf.global_variables_initializer())\n",
    "    num_examples = len(X_train)\n",
    "    \n",
    "    print(\"Training...\")\n",
    "    print()\n",
    "    for i in range(EPOCHS):\n",
    "        X_train, y_train = shuffle(X_train, y_train)\n",
    "        for offset in range(0, num_examples, BATCH_SIZE):\n",
    "            end = offset + BATCH_SIZE\n",
    "            batch_x, batch_y = X_train[offset:end], y_train[offset:end]\n",
    "            sess.run(training_operation, feed_dict={x: batch_x, y: batch_y})\n",
    "        training_accuracy = evaluate(X_train, y_train)\n",
    "        validation_accuracy = evaluate(X_valid, y_valid)\n",
    "        print(\"EPOCH {} ...\".format(i+1))\n",
    "        print(\"Training Accuracy = {:.3f} , Validation Accuracy = {:.3f}\".format(training_accuracy, validation_accuracy))\n",
    "        print()\n",
    "        \n",
    "    saver.save(sess, './lenet')\n",
    "    print(\"Model saved\")\n",
    "    test_accuracy = evaluate(X_test, y_test)\n",
    "    print(\"Test Accuracy = {:.3f}\".format(test_accuracy))\n"
   ]
  },
  {
   "cell_type": "markdown",
   "metadata": {},
   "source": [
    " ---\n",
    "\n",
    " ## Step 3: Test a Model on New Images\n",
    "\n",
    " To give yourself more insight into how your model is working, download at least five pictures of German traffic signs from the web and use your model to predict the traffic sign type.\n",
    "\n",
    " You may find `signnames.csv` useful as it contains mappings from the class id (integer) to the actual sign name."
   ]
  },
  {
   "cell_type": "markdown",
   "metadata": {},
   "source": [
    " ### Load and Output the Images"
   ]
  },
  {
   "cell_type": "code",
   "execution_count": 21,
   "metadata": {},
   "outputs": [
    {
     "name": "stdout",
     "output_type": "stream",
     "text": [
      "INFO:tensorflow:Restoring parameters from ./lenet\n",
      "Predicted Sign\n",
      "Road work\n"
     ]
    },
    {
     "data": {
      "image/png": "[encoded data removed]",
      "text/plain": [
       "<Figure size 72x72 with 1 Axes>"
      ]
     },
     "metadata": {
      "needs_background": "light"
     },
     "output_type": "display_data"
    }
   ],
   "source": [
    "import pandas as pd\n",
    "signnames = pd.read_csv('signnames.csv')\n",
    "import tensorflow as tf\n",
    "\n",
    "import glob\n",
    "\n",
    "images = glob.glob('web_images/*.jpg')\n",
    "\n",
    "with tf.Session() as sess:\n",
    "    saver.restore(sess, tf.train.latest_checkpoint('.'))\n",
    "    index = random.randint(0, len(images))\n",
    "    image = plt.imread(images[index])\n",
    "    image = cv2.resize(image,(32,32))\n",
    "    plt.figure(figsize=(1,1))\n",
    "    plt.imshow(image)\n",
    "    X_to_predict_normalize = normalize(image)\n",
    "    result = evaluate_one(X_to_predict_normalize)\n",
    "    print('Predicted Sign')\n",
    "    print(signnames.loc[result[0],:].SignName)\n",
    "\n"
   ]
  },
  {
   "cell_type": "markdown",
   "metadata": {},
   "source": [
    " ### Predict the Sign Type for Each Image"
   ]
  },
  {
   "cell_type": "code",
   "execution_count": 23,
   "metadata": {},
   "outputs": [
    {
     "name": "stdout",
     "output_type": "stream",
     "text": [
      "INFO:tensorflow:Restoring parameters from ./lenet\n"
     ]
    },
    {
     "data": {
      "image/png": "[encoded data removed]",
      "text/plain": [
       "<Figure size 432x288 with 1 Axes>"
      ]
     },
     "metadata": {
      "needs_background": "light"
     },
     "output_type": "display_data"
    },
    {
     "data": {
      "image/png": "[encoded data removed]",
      "text/plain": [
       "<Figure size 432x288 with 1 Axes>"
      ]
     },
     "metadata": {
      "needs_background": "light"
     },
     "output_type": "display_data"
    },
    {
     "data": {
      "image/png": "[encoded data removed]",
      "text/plain": [
       "<Figure size 432x288 with 1 Axes>"
      ]
     },
     "metadata": {
      "needs_background": "light"
     },
     "output_type": "display_data"
    },
    {
     "data": {
      "image/png": "[encoded data removed]",
      "text/plain": [
       "<Figure size 432x288 with 1 Axes>"
      ]
     },
     "metadata": {
      "needs_background": "light"
     },
     "output_type": "display_data"
    },
    {
     "data": {
      "image/png": "[encoded data removed]",
      "text/plain": [
       "<Figure size 432x288 with 1 Axes>"
      ]
     },
     "metadata": {
      "needs_background": "light"
     },
     "output_type": "display_data"
    },
    {
     "name": "stdout",
     "output_type": "stream",
     "text": [
      "5\n",
      "Accuracy : 80.0 %\n"
     ]
    }
   ],
   "source": [
    "actual_result = [14, 14, 11, 31, 25]\n",
    "\n",
    "with tf.Session() as sess:\n",
    "    saver.restore(sess, tf.train.latest_checkpoint('.'))\n",
    "    correct = 0\n",
    "    images = glob.glob('web_images/*.jpg')\n",
    "    image_len = len(images)\n",
    "    for i, img_path in enumerate(images):\n",
    "        img = plt.imread(img_path)\n",
    "        img = cv2.resize(img,(32,32))\n",
    "        images = np.array([img])\n",
    "        X_to_predict = normalize(images[0])\n",
    "        result = evaluate_one(X_to_predict)\n",
    "        if(result[0] == actual_result[i]):\n",
    "            correct += 1\n",
    "        plt.figure()\n",
    "        plt.title(signnames.loc[result[0],:].SignName)\n",
    "        plt.imshow(img)\n",
    "        plt.show()\n",
    "    print(image_len)\n",
    "    print('Accuracy : ' + str(float(correct)/image_len * 100)+' %')\n",
    "\n"
   ]
  },
  {
   "cell_type": "markdown",
   "metadata": {},
   "source": [
    " ### Output Top 5 Softmax Probabilities For Each Image Found on the Web"
   ]
  },
  {
   "cell_type": "markdown",
   "metadata": {},
   "source": [
    " For each of the new images, print out the model's softmax probabilities to show the **certainty** of the model's predictions (limit the output to the top 5 probabilities for each image). [`tf.nn.top_k`](https://www.tensorflow.org/versions/r0.12/api_docs/python/nn.html#top_k) could prove helpful here.\n",
    "\n",
    " The example below demonstrates how tf.nn.top_k can be used to find the top k predictions for each image.\n",
    "\n",
    " `tf.nn.top_k` will return the values and indices (class ids) of the top k predictions. So if k=3, for each sign, it'll return the 3 largest probabilities (out of a possible 43) and the correspoding class ids.\n",
    "\n",
    " Take this numpy array as an example. The values in the array represent predictions. The array contains softmax probabilities for five candidate images with six possible classes. `tf.nn.top_k` is used to choose the three classes with the highest probability:\n",
    "\n",
    " ```\n",
    " # (5, 6) array\n",
    " a = np.array([[ 0.24879643,  0.07032244,  0.12641572,  0.34763842,  0.07893497,\n",
    "          0.12789202],\n",
    "        [ 0.28086119,  0.27569815,  0.08594638,  0.0178669 ,  0.18063401,\n",
    "          0.15899337],\n",
    "        [ 0.26076848,  0.23664738,  0.08020603,  0.07001922,  0.1134371 ,\n",
    "          0.23892179],\n",
    "        [ 0.11943333,  0.29198961,  0.02605103,  0.26234032,  0.1351348 ,\n",
    "          0.16505091],\n",
    "        [ 0.09561176,  0.34396535,  0.0643941 ,  0.16240774,  0.24206137,\n",
    "          0.09155967]])\n",
    " ```\n",
    "\n",
    " Running it through `sess.run(tf.nn.top_k(tf.constant(a), k=3))` produces:\n",
    "\n",
    " ```\n",
    " TopKV2(values=array([[ 0.34763842,  0.24879643,  0.12789202],\n",
    "        [ 0.28086119,  0.27569815,  0.18063401],\n",
    "        [ 0.26076848,  0.23892179,  0.23664738],\n",
    "        [ 0.29198961,  0.26234032,  0.16505091],\n",
    "        [ 0.34396535,  0.24206137,  0.16240774]]), indices=array([[3, 0, 5],\n",
    "        [0, 1, 4],\n",
    "        [0, 5, 1],\n",
    "        [1, 3, 5],\n",
    "        [1, 4, 3]], dtype=int32))\n",
    " ```\n",
    "\n",
    " Looking just at the first row we get `[ 0.34763842,  0.24879643,  0.12789202]`, you can confirm these are the 3 largest probabilities in `a`. You'll also notice `[3, 0, 5]` are the corresponding indices."
   ]
  },
  {
   "cell_type": "code",
   "execution_count": null,
   "metadata": {},
   "outputs": [],
   "source": [
    "### Print out the top five softmax probabilities for the predictions on the German traffic sign images found on the web. \n",
    "### Feel free to use as many code cells as needed.\n"
   ]
  },
  {
   "cell_type": "code",
   "execution_count": 39,
   "metadata": {},
   "outputs": [
    {
     "name": "stdout",
     "output_type": "stream",
     "text": [
      "INFO:tensorflow:Restoring parameters from ./lenet\n",
      "[[1.00000000e+00 1.58410399e-21 1.15398926e-26 2.86345275e-31\n",
      "  0.00000000e+00]]\n"
     ]
    },
    {
     "data": {
      "image/png": "[encoded data removed]",
      "text/plain": [
       "<Figure size 432x288 with 2 Axes>"
      ]
     },
     "metadata": {
      "needs_background": "light"
     },
     "output_type": "display_data"
    },
    {
     "name": "stdout",
     "output_type": "stream",
     "text": [
      "[[1.0000000e+00 7.2803514e-09 1.9222478e-16 7.6348943e-17 4.3678412e-17]]\n"
     ]
    },
    {
     "data": {
      "image/png": "[encoded data removed]",
      "text/plain": [
       "<Figure size 432x288 with 2 Axes>"
      ]
     },
     "metadata": {
      "needs_background": "light"
     },
     "output_type": "display_data"
    },
    {
     "name": "stdout",
     "output_type": "stream",
     "text": [
      "[[9.9443108e-01 4.9984776e-03 5.7042803e-04 3.4516630e-14 1.4723741e-21]]\n"
     ]
    },
    {
     "data": {
      "image/png": "[encoded data removed]",
      "text/plain": [
       "<Figure size 432x288 with 2 Axes>"
      ]
     },
     "metadata": {
      "needs_background": "light"
     },
     "output_type": "display_data"
    },
    {
     "name": "stdout",
     "output_type": "stream",
     "text": [
      "[[1.0000000e+00 8.2245285e-29 1.4610156e-29 3.8137516e-34 2.8262647e-37]]\n"
     ]
    },
    {
     "data": {
      "image/png": "[encoded data removed]",
      "text/plain": [
       "<Figure size 432x288 with 2 Axes>"
      ]
     },
     "metadata": {
      "needs_background": "light"
     },
     "output_type": "display_data"
    },
    {
     "name": "stdout",
     "output_type": "stream",
     "text": [
      "[[1.00000000e+00 3.14701571e-21 2.27639822e-21 4.20068679e-25\n",
      "  1.00364074e-25]]\n"
     ]
    },
    {
     "data": {
      "image/png": "[encoded data removed]",
      "text/plain": [
       "<Figure size 432x288 with 2 Axes>"
      ]
     },
     "metadata": {
      "needs_background": "light"
     },
     "output_type": "display_data"
    }
   ],
   "source": [
    "### Load the images and plot them here.\n",
    "### Feel free to use as many code cells as needed.\n",
    "### Run the predictions here and use the model to output the prediction for each image.\n",
    "### Make sure to pre-process the images with the same pre-processing pipeline used earlier.\n",
    "\n",
    "with tf.Session() as sess:\n",
    "    saver.restore(sess, tf.train.latest_checkpoint('.'))\n",
    "    correct = 0\n",
    "    images = glob.glob('web_images/*.jpg')\n",
    "    image_len = len(images)\n",
    "    for i, img_path in enumerate(images):\n",
    "        img = plt.imread(img_path)\n",
    "        img = cv2.resize(img,(32,32))\n",
    "        plt.figure()\n",
    "        plt.subplot(221)\n",
    "        plt.imshow(img)\n",
    "        X_to_predict = normalize(img)\n",
    "        top_result = evaluate_top(X_to_predict)\n",
    "        print(top_result.values)\n",
    "        plt.subplot(222)\n",
    "        plt.bar(range(5), top_result.values[0]) \n",
    "        plt.xticks(range(5), signnames.values[top_result.indices[0]], rotation='vertical')    \n",
    "        plt.show()\n"
   ]
  },
  {
   "cell_type": "markdown",
   "metadata": {},
   "source": [
    " ### Project Writeup\n",
    "\n",
    " Once you have completed the code implementation, document your results in a project writeup using this [template](https://github.com/udacity/CarND-Traffic-Sign-Classifier-Project/blob/master/writeup_template.md) as a guide. The writeup can be in a markdown or pdf file."
   ]
  },
  {
   "cell_type": "markdown",
   "metadata": {},
   "source": [
    " > **Note**: Once you have completed all of the code implementations and successfully answered each question above, you may finalize your work by exporting the iPython Notebook as an HTML document. You can do this by using the menu above and navigating to  \\n\",\n",
    "     \"**File -> Download as -> HTML (.html)**. Include the finished document along with this notebook as your submission."
   ]
  },
  {
   "cell_type": "markdown",
   "metadata": {},
   "source": [
    " ---\n",
    "\n",
    " ## Step 4 (Optional): Visualize the Neural Network's State with Test Images\n",
    "\n",
    "  This Section is not required to complete but acts as an additional excersise for understaning the output of a neural network's weights. While neural networks can be a great learning device they are often referred to as a black box. We can understand what the weights of a neural network look like better by plotting their feature maps. After successfully training your neural network you can see what it's feature maps look like by plotting the output of the network's weight layers in response to a test stimuli image. From these plotted feature maps, it's possible to see what characteristics of an image the network finds interesting. For a sign, maybe the inner network feature maps react with high activation to the sign's boundary outline or to the contrast in the sign's painted symbol.\n",
    "\n",
    "  Provided for you below is the function code that allows you to get the visualization output of any tensorflow weight layer you want. The inputs to the function should be a stimuli image, one used during training or a new one you provided, and then the tensorflow variable name that represents the layer's state during the training process, for instance if you wanted to see what the [LeNet lab's](https://classroom.udacity.com/nanodegrees/nd013/parts/fbf77062-5703-404e-b60c-95b78b2f3f9e/modules/6df7ae49-c61c-4bb2-a23e-6527e69209ec/lessons/601ae704-1035-4287-8b11-e2c2716217ad/concepts/d4aca031-508f-4e0b-b493-e7b706120f81) feature maps looked like for it's second convolutional layer you could enter conv2 as the tf_activation variable.\n",
    "\n",
    " For an example of what feature map outputs look like, check out NVIDIA's results in their paper [End-to-End Deep Learning for Self-Driving Cars](https://devblogs.nvidia.com/parallelforall/deep-learning-self-driving-cars/) in the section Visualization of internal CNN State. NVIDIA was able to show that their network's inner weights had high activations to road boundary lines by comparing feature maps from an image with a clear path to one without. Try experimenting with a similar test to show that your trained network's weights are looking for interesting features, whether it's looking at differences in feature maps from images with or without a sign, or even what feature maps look like in a trained network vs a completely untrained one on the same sign image.\n",
    "\n",
    " <figure>\n",
    "  <img src=\"visualize_cnn.png\" width=\"380\" alt=\"Combined Image\" />\n",
    "  <figcaption>\n",
    "  <p></p>\n",
    "  <p style=\"text-align: center;\"> Your output should look something like this (above)</p>\n",
    "  </figcaption>\n",
    " </figure>\n",
    "  <p></p>\n"
   ]
  },
  {
   "cell_type": "code",
   "execution_count": null,
   "metadata": {},
   "outputs": [],
   "source": [
    "### Visualize your network's feature maps here.\n",
    "### Feel free to use as many code cells as needed.\n",
    "\n",
    "# image_input: the test image being fed into the network to produce the feature maps\n",
    "# tf_activation: should be a tf variable name used during your training procedure that represents the calculated state of a specific weight layer\n",
    "# activation_min/max: can be used to view the activation contrast in more detail, by default matplot sets min and max to the actual min and max values of the output\n",
    "# plt_num: used to plot out multiple different weight feature map sets on the same block, just extend the plt number for each new feature map entry\n",
    "\n",
    "def outputFeatureMap(image_input, tf_activation, activation_min=-1, activation_max=-1 ,plt_num=1):\n",
    "    # Here make sure to preprocess your image_input in a way your network expects\n",
    "    # with size, normalization, ect if needed\n",
    "    # image_input =\n",
    "    # Note: x should be the same name as your network's tensorflow data placeholder variable\n",
    "    # If you get an error tf_activation is not defined it may be having trouble accessing the variable from inside a function\n",
    "    activation = tf_activation.eval(session=sess,feed_dict={x : image_input})\n",
    "    featuremaps = activation.shape[3]\n",
    "    plt.figure(plt_num, figsize=(15,15))\n",
    "    for featuremap in range(featuremaps):\n",
    "        plt.subplot(6,8, featuremap+1) # sets the number of feature maps to show on each row and column\n",
    "        plt.title('FeatureMap ' + str(featuremap)) # displays the feature map number\n",
    "        if activation_min != -1 & activation_max != -1:\n",
    "            plt.imshow(activation[0,:,:, featuremap], interpolation=\"nearest\", vmin =activation_min, vmax=activation_max, cmap=\"gray\")\n",
    "        elif activation_max != -1:\n",
    "            plt.imshow(activation[0,:,:, featuremap], interpolation=\"nearest\", vmax=activation_max, cmap=\"gray\")\n",
    "        elif activation_min !=-1:\n",
    "            plt.imshow(activation[0,:,:, featuremap], interpolation=\"nearest\", vmin=activation_min, cmap=\"gray\")\n",
    "        else:\n",
    "            plt.imshow(activation[0,:,:, featuremap], interpolation=\"nearest\", cmap=\"gray\")\n",
    "\n",
    "\n"
   ]
  },
  {
   "cell_type": "code",
   "execution_count": null,
   "metadata": {},
   "outputs": [],
   "source": []
  }
 ],
 "metadata": {
  "file_extension": ".py",
  "kernelspec": {
   "display_name": "Python 3",
   "language": "python",
   "name": "python3"
  },
  "language_info": {
   "codemirror_mode": {
    "name": "ipython",
    "version": 3
   },
   "file_extension": ".py",
   "mimetype": "text/x-python",
   "name": "python",
   "nbconvert_exporter": "python",
   "pygments_lexer": "ipython3",
   "version": "3.5.2"
  },
  "mimetype": "text/x-python",
  "name": "python",
  "npconvert_exporter": "python",
  "pygments_lexer": "ipython3",
  "version": 3,
  "widgets": {
   "state": {},
   "version": "1.1.2"
  }
 },
 "nbformat": 4,
 "nbformat_minor": 2
}
